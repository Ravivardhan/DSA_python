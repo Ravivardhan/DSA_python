{
  "nbformat": 4,
  "nbformat_minor": 0,
  "metadata": {
    "colab": {
      "name": "LinkedList.ipynb",
      "provenance": [],
      "collapsed_sections": []
    },
    "kernelspec": {
      "name": "python3",
      "display_name": "Python 3"
    },
    "language_info": {
      "name": "python"
    }
  },
  "cells": [
    {
      "cell_type": "markdown",
      "metadata": {
        "id": "nWyZwdzOtsZs"
      },
      "source": [
        "A linked list is a sequence of data elements, which are connected together via links. Each data element contains a connection to another data element in form of a pointer. Python does not have linked lists in its standard library"
      ]
    },
    {
      "cell_type": "code",
      "metadata": {
        "id": "GzcSLseVtqil"
      },
      "source": [
        "#creation of linked list\n",
        "\n",
        "class Node:\n",
        "  def __init__(self,day=None):\n",
        "    self.day=day\n",
        "    self.nextday=None\n",
        "  \n",
        "class LinkedList:\n",
        "  def __init__(self):\n",
        "    self.head=None\n",
        "  \n",
        "linked_list=LinkedList()\n",
        "linked_list.head=Node(\"Sunday\")\n",
        "day2=Node(\"Monday\")\n",
        "day3=Node(\"Tuesday\")\n",
        "\n",
        "linked_list.head.nexday=day2\n",
        "day2.nextday=day3\n"
      ],
      "execution_count": null,
      "outputs": []
    },
    {
      "cell_type": "code",
      "metadata": {
        "id": "UYhk04vMwqLj",
        "colab": {
          "base_uri": "https://localhost:8080/"
        },
        "outputId": "6c85cde6-26c3-4d0a-bf4d-88d61a1da5a1"
      },
      "source": [
        "#Traversing a LinkedList\n",
        "class Node:\n",
        "  def __init__(self,day=None):\n",
        "    self.day=day\n",
        "    self.nextday=None\n",
        "\n",
        "class LinkedList:\n",
        "  def __init__(self):\n",
        "    self.head=None\n",
        "  \n",
        "  def print_list(self):\n",
        "    printhead=self.head\n",
        "    while printhead is not None:\n",
        "      print(printhead.day)\n",
        "      printhead=printhead.nextday\n",
        "\n",
        "linked_list=LinkedList()\n",
        "linked_list.head=Node(\"Sun\")\n",
        "\n",
        "day2=Node(\"Mon\")\n",
        "day3=Node(\"Tue\")\n",
        "day4=Node(\"wed\")\n",
        "day5=Node(\"Thu\")\n",
        "day6=Node(\"Fri\")\n",
        "day7=Node(\"Sat\")\n",
        "\n",
        "\n",
        "\n",
        "linked_list.head.nextday=day2\n",
        "day2.nextday=day3\n",
        "day3.nextday=day4\n",
        "day4.nextday=day5\n",
        "day5.nextday=day6\n",
        "day6.nextday=day7\n",
        "\n",
        "linked_list.print_list()"
      ],
      "execution_count": 2,
      "outputs": [
        {
          "output_type": "stream",
          "text": [
            "Sun\n",
            "Mon\n",
            "Tue\n",
            "wed\n",
            "Thu\n",
            "Fri\n",
            "Sat\n"
          ],
          "name": "stdout"
        }
      ]
    },
    {
      "cell_type": "markdown",
      "metadata": {
        "id": "ohF-Ml-AzTnz"
      },
      "source": [
        "Insertion in a Linked List\n",
        "Inserting element in the linked list involves reassigning the pointers from the existing nodes to the newly inserted node. Depending on whether the new data element is getting inserted at the beginning or at the middle or at the end of the linked list, we have the below scenarios."
      ]
    },
    {
      "cell_type": "code",
      "metadata": {
        "colab": {
          "base_uri": "https://localhost:8080/"
        },
        "id": "A87SyzZazVJF",
        "outputId": "83cd0ab1-99f7-48d1-cd57-0e1d473de8f7"
      },
      "source": [
        "#adding a new node at beginning\n",
        "class Node:\n",
        "  def __init__(self,day=None):\n",
        "    self.day=day\n",
        "    self.nextday=None\n",
        "\n",
        "class LinkedList:\n",
        "  def __init__(self):\n",
        "    self.head=None\n",
        "  \n",
        "  def print_list(self):\n",
        "    printhead=self.head\n",
        "    while printhead is not None:\n",
        "      print(printhead.day)\n",
        "      printhead=printhead.nextday\n",
        "  def add_at_begin(self,day):\n",
        "    newnode=Node(day)\n",
        "\n",
        "    newnode.nextday=self.head\n",
        "    self.head=newnode\n",
        "\n",
        "linked_list=LinkedList()\n",
        "linked_list.head=Node(\"Sun\")\n",
        "\n",
        "day2=Node(\"Mon\")\n",
        "day3=Node(\"Tue\")\n",
        "day4=Node(\"wed\")\n",
        "\n",
        "\n",
        "\n",
        "\n",
        "linked_list.head.nextday=day2\n",
        "day2.nextday=day3\n",
        "day3.nextday=day4\n",
        "\n",
        "linked_list.add_at_begin(\"Sat\")\n",
        "linked_list.print_list()"
      ],
      "execution_count": 7,
      "outputs": [
        {
          "output_type": "stream",
          "text": [
            "Sat\n",
            "Sun\n",
            "Mon\n",
            "Tue\n",
            "wed\n"
          ],
          "name": "stdout"
        }
      ]
    },
    {
      "cell_type": "code",
      "metadata": {
        "id": "c3h4by650enC"
      },
      "source": [
        ""
      ],
      "execution_count": null,
      "outputs": []
    }
  ]
}