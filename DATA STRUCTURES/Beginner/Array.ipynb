{
  "nbformat": 4,
  "nbformat_minor": 0,
  "metadata": {
    "colab": {
      "name": "Array.ipynb",
      "provenance": [],
      "collapsed_sections": []
    },
    "kernelspec": {
      "name": "python3",
      "display_name": "Python 3"
    },
    "language_info": {
      "name": "python"
    }
  },
  "cells": [
    {
      "cell_type": "markdown",
      "metadata": {
        "id": "psm2tcivoPzT"
      },
      "source": [
        "                            Array Basic Operations\n",
        "          \n",
        "\n",
        "          1.Tranverse\n",
        "          2.Insertion\n",
        "          3.Deletion\n",
        "          4.Search\n",
        "          5.Update\n",
        "          "
      ]
    },
    {
      "cell_type": "code",
      "metadata": {
        "colab": {
          "base_uri": "https://localhost:8080/"
        },
        "id": "W8lXLOCrofFN",
        "outputId": "8dcb6cd1-a31a-4ebf-9616-a0f94318f8c8"
      },
      "source": [
        "from array import *\n",
        "#arrayName=array(typecode,[Initializers])\n",
        "\n",
        "#.   INTIALIZERS\n",
        "\n",
        "#b-signed integers of size 1byte\n",
        "#B-unsigned integer of size 1byte\n",
        "#c-character of size 1 byte\n",
        "#i-signed integer of size 2bytes\n",
        "#I-unsigned integer of size 2bytes\n",
        "#f-floating point of size 4 bytes\n",
        "#d-floating point of size 8 bytes\n",
        "\n",
        "array1=array('i',[10,20,30,40,50])\n",
        "\n",
        "for i in array1:\n",
        "  print(i)\n"
      ],
      "execution_count": 2,
      "outputs": [
        {
          "output_type": "stream",
          "text": [
            "10\n",
            "20\n",
            "30\n",
            "40\n",
            "50\n"
          ],
          "name": "stdout"
        }
      ]
    },
    {
      "cell_type": "code",
      "metadata": {
        "colab": {
          "base_uri": "https://localhost:8080/"
        },
        "id": "EPh8hfahpnMo",
        "outputId": "79bbb879-a3fb-4cb1-c6ab-aa111951a18f"
      },
      "source": [
        "#accessing array element\n",
        "from array import *\n",
        "\n",
        "array1=array('i',[10,20,30,40,50])\n",
        "\n",
        "print(array1[0])\n",
        "print(array1[-1])"
      ],
      "execution_count": 3,
      "outputs": [
        {
          "output_type": "stream",
          "text": [
            "10\n",
            "50\n"
          ],
          "name": "stdout"
        }
      ]
    },
    {
      "cell_type": "code",
      "metadata": {
        "colab": {
          "base_uri": "https://localhost:8080/"
        },
        "id": "m-Zd0G6zpzBn",
        "outputId": "e93cc9d7-3ee1-4262-9abd-9436c7250208"
      },
      "source": [
        "#Insertin Operation\n",
        "from array import *\n",
        "\n",
        "array1=array('i',[10,20,30,40,50])\n",
        "\n",
        "array1.insert(1,60) #insert takes two arguments //index and //value\n",
        "for x in  array1:\n",
        "  print(x)\n"
      ],
      "execution_count": 7,
      "outputs": [
        {
          "output_type": "stream",
          "text": [
            "10\n",
            "60\n",
            "20\n",
            "30\n",
            "40\n",
            "50\n"
          ],
          "name": "stdout"
        }
      ]
    },
    {
      "cell_type": "code",
      "metadata": {
        "colab": {
          "base_uri": "https://localhost:8080/"
        },
        "id": "xJRxwFmAqScg",
        "outputId": "f4c75ab8-4dc5-49f1-945a-38c58210aa73"
      },
      "source": [
        "#deletion operation\n",
        "from array import *\n",
        "\n",
        "array1=array('i',[10,20,30,40,50,60])\n",
        "array1.remove(60)\n",
        "\n",
        "for i in array1:\n",
        "  print(i)"
      ],
      "execution_count": 10,
      "outputs": [
        {
          "output_type": "stream",
          "text": [
            "10\n",
            "20\n",
            "30\n",
            "40\n",
            "50\n"
          ],
          "name": "stdout"
        }
      ]
    },
    {
      "cell_type": "code",
      "metadata": {
        "colab": {
          "base_uri": "https://localhost:8080/"
        },
        "id": "Qk9NYPnUqouf",
        "outputId": "40580cc3-0a10-43ae-96bb-eef7bd536df1"
      },
      "source": [
        "#search operation\n",
        "from array import *\n",
        "array1=array('i',[10,20,30,40,50])\n",
        "print(array1.index(50))"
      ],
      "execution_count": 13,
      "outputs": [
        {
          "output_type": "stream",
          "text": [
            "4\n"
          ],
          "name": "stdout"
        }
      ]
    },
    {
      "cell_type": "code",
      "metadata": {
        "colab": {
          "base_uri": "https://localhost:8080/"
        },
        "id": "p9lJqWvGq1c0",
        "outputId": "d239a261-eec5-4180-d341-fae8cdd16410"
      },
      "source": [
        "#update operation\n",
        "from array import *\n",
        "\n",
        "array1=array('i',[10,20,30,40,50])\n",
        "\n",
        "array1[2]=50\n",
        "for i in array1:\n",
        "  print(i)"
      ],
      "execution_count": 14,
      "outputs": [
        {
          "output_type": "stream",
          "text": [
            "10\n",
            "20\n",
            "50\n",
            "40\n",
            "50\n"
          ],
          "name": "stdout"
        }
      ]
    }
  ]
}